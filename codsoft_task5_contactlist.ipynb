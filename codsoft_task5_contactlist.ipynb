{
 "cells": [
  {
   "cell_type": "code",
   "execution_count": 1,
   "id": "06bfb51f-bb33-4188-9aa1-28dabc13d57e",
   "metadata": {},
   "outputs": [
    {
     "name": "stdout",
     "output_type": "stream",
     "text": [
      "\n",
      "Contact Management System\n",
      "1. Add Contact\n",
      "2. View Contacts\n",
      "3. Search Contact\n",
      "4. Update Contact\n",
      "5. Delete Contact\n",
      "6. Exit\n"
     ]
    },
    {
     "name": "stdin",
     "output_type": "stream",
     "text": [
      "Enter your choice:  1\n",
      "Enter name:  Jay\n",
      "Enter phone number:  2356892356\n",
      "Enter email:  xyz@gmail.com\n",
      "Enter address:  ahmedabad,Gujarat\n"
     ]
    },
    {
     "name": "stdout",
     "output_type": "stream",
     "text": [
      "Contact added successfully.\n",
      "\n",
      "Contact Management System\n",
      "1. Add Contact\n",
      "2. View Contacts\n",
      "3. Search Contact\n",
      "4. Update Contact\n",
      "5. Delete Contact\n",
      "6. Exit\n"
     ]
    },
    {
     "name": "stdin",
     "output_type": "stream",
     "text": [
      "Enter your choice:  2\n"
     ]
    },
    {
     "name": "stdout",
     "output_type": "stream",
     "text": [
      "1. Jay - 2356892356\n",
      "\n",
      "Contact Management System\n",
      "1. Add Contact\n",
      "2. View Contacts\n",
      "3. Search Contact\n",
      "4. Update Contact\n",
      "5. Delete Contact\n",
      "6. Exit\n"
     ]
    },
    {
     "name": "stdin",
     "output_type": "stream",
     "text": [
      "Enter your choice:  3\n",
      "Enter name or phone number to search:  Jay\n"
     ]
    },
    {
     "name": "stdout",
     "output_type": "stream",
     "text": [
      "Name: Jay\n",
      "Phone: 2356892356\n",
      "Email: xyz@gmail.com\n",
      "Address: ahmedabad,Gujarat\n",
      "--------------------\n",
      "\n",
      "Contact Management System\n",
      "1. Add Contact\n",
      "2. View Contacts\n",
      "3. Search Contact\n",
      "4. Update Contact\n",
      "5. Delete Contact\n",
      "6. Exit\n"
     ]
    },
    {
     "name": "stdin",
     "output_type": "stream",
     "text": [
      "Enter your choice:  4\n"
     ]
    },
    {
     "name": "stdout",
     "output_type": "stream",
     "text": [
      "1. Jay - 2356892356\n"
     ]
    },
    {
     "name": "stdin",
     "output_type": "stream",
     "text": [
      "Enter the number of the contact to update:  1245781245\n",
      "Enter new name (leave blank to keep current):  \n",
      "Enter new phone number (leave blank to keep current):  \n",
      "Enter new email (leave blank to keep current):  \n",
      "Enter new address (leave blank to keep current):  \n"
     ]
    },
    {
     "name": "stdout",
     "output_type": "stream",
     "text": [
      "Invalid contact index.\n",
      "Contact updated successfully.\n",
      "\n",
      "Contact Management System\n",
      "1. Add Contact\n",
      "2. View Contacts\n",
      "3. Search Contact\n",
      "4. Update Contact\n",
      "5. Delete Contact\n",
      "6. Exit\n"
     ]
    },
    {
     "name": "stdin",
     "output_type": "stream",
     "text": [
      "Enter your choice:  5\n"
     ]
    },
    {
     "name": "stdout",
     "output_type": "stream",
     "text": [
      "1. Jay - 2356892356\n"
     ]
    },
    {
     "name": "stdin",
     "output_type": "stream",
     "text": [
      "Enter the number of the contact to delete:  1\n"
     ]
    },
    {
     "name": "stdout",
     "output_type": "stream",
     "text": [
      "Contact deleted successfully.\n",
      "\n",
      "Contact Management System\n",
      "1. Add Contact\n",
      "2. View Contacts\n",
      "3. Search Contact\n",
      "4. Update Contact\n",
      "5. Delete Contact\n",
      "6. Exit\n"
     ]
    },
    {
     "name": "stdin",
     "output_type": "stream",
     "text": [
      "Enter your choice:  6\n"
     ]
    },
    {
     "name": "stdout",
     "output_type": "stream",
     "text": [
      "Exiting the application.\n"
     ]
    }
   ],
   "source": [
    "class Contact:\n",
    "    def __init__(self, name, phone, email, address):\n",
    "        self.name = name\n",
    "        self.phone = phone\n",
    "        self.email = email\n",
    "        self.address = address\n",
    "\n",
    "    def __str__(self):\n",
    "        return f\"Name: {self.name}\\nPhone: {self.phone}\\nEmail: {self.email}\\nAddress: {self.address}\"\n",
    "\n",
    "class ContactList:\n",
    "    def __init__(self):\n",
    "        self.contacts = []\n",
    "\n",
    "    def add_contact(self, contact):\n",
    "        self.contacts.append(contact)\n",
    "\n",
    "    def view_contacts(self):\n",
    "        if not self.contacts:\n",
    "            print(\"No contacts available.\")\n",
    "        else:\n",
    "            for i, contact in enumerate(self.contacts, 1):\n",
    "                print(f\"{i}. {contact.name} - {contact.phone}\")\n",
    "\n",
    "    def search_contact(self, query):\n",
    "        results = [contact for contact in self.contacts if query.lower() in contact.name.lower() or query in contact.phone]\n",
    "        return results\n",
    "\n",
    "    def update_contact(self, index, name=None, phone=None, email=None, address=None):\n",
    "        if 0 <= index < len(self.contacts):\n",
    "            if name: self.contacts[index].name = name\n",
    "            if phone: self.contacts[index].phone = phone\n",
    "            if email: self.contacts[index].email = email\n",
    "            if address: self.contacts[index].address = address\n",
    "        else:\n",
    "            print(\"Invalid contact index.\")\n",
    "\n",
    "    def delete_contact(self, index):\n",
    "        if 0 <= index < len(self.contacts):\n",
    "            del self.contacts[index]\n",
    "        else:\n",
    "            print(\"Invalid contact index.\")\n",
    "\n",
    "def main():\n",
    "    contact_list = ContactList()\n",
    "\n",
    "    while True:\n",
    "        print(\"\\nContact Management System\")\n",
    "        print(\"1. Add Contact\")\n",
    "        print(\"2. View Contacts\")\n",
    "        print(\"3. Search Contact\")\n",
    "        print(\"4. Update Contact\")\n",
    "        print(\"5. Delete Contact\")\n",
    "        print(\"6. Exit\")\n",
    "\n",
    "        choice = input(\"Enter your choice: \")\n",
    "\n",
    "        if choice == '1':\n",
    "            name = input(\"Enter name: \")\n",
    "            phone = input(\"Enter phone number: \")\n",
    "            email = input(\"Enter email: \")\n",
    "            address = input(\"Enter address: \")\n",
    "            contact = Contact(name, phone, email, address)\n",
    "            contact_list.add_contact(contact)\n",
    "            print(\"Contact added successfully.\")\n",
    "        elif choice == '2':\n",
    "            contact_list.view_contacts()\n",
    "        elif choice == '3':\n",
    "            query = input(\"Enter name or phone number to search: \")\n",
    "            results = contact_list.search_contact(query)\n",
    "            if results:\n",
    "                for contact in results:\n",
    "                    print(contact)\n",
    "                    print(\"-\" * 20)\n",
    "            else:\n",
    "                print(\"No matching contacts found.\")\n",
    "        elif choice == '4':\n",
    "            contact_list.view_contacts()\n",
    "            index = int(input(\"Enter the number of the contact to update: \")) - 1\n",
    "            name = input(\"Enter new name (leave blank to keep current): \")\n",
    "            phone = input(\"Enter new phone number (leave blank to keep current): \")\n",
    "            email = input(\"Enter new email (leave blank to keep current): \")\n",
    "            address = input(\"Enter new address (leave blank to keep current): \")\n",
    "            contact_list.update_contact(index, name, phone, email, address)\n",
    "            print(\"Contact updated successfully.\")\n",
    "        elif choice == '5':\n",
    "            contact_list.view_contacts()\n",
    "            index = int(input(\"Enter the number of the contact to delete: \")) - 1\n",
    "            contact_list.delete_contact(index)\n",
    "            print(\"Contact deleted successfully.\")\n",
    "        elif choice == '6':\n",
    "            print(\"Exiting the application.\")\n",
    "            break\n",
    "        else:\n",
    "            print(\"Invalid choice. Please try again.\")\n",
    "\n",
    "if __name__ == \"__main__\":\n",
    "    main()"
   ]
  },
  {
   "cell_type": "code",
   "execution_count": null,
   "id": "e74ea9e4-bef5-4fcd-ac91-faae22de1b3f",
   "metadata": {},
   "outputs": [],
   "source": []
  }
 ],
 "metadata": {
  "kernelspec": {
   "display_name": "Python 3 (ipykernel)",
   "language": "python",
   "name": "python3"
  },
  "language_info": {
   "codemirror_mode": {
    "name": "ipython",
    "version": 3
   },
   "file_extension": ".py",
   "mimetype": "text/x-python",
   "name": "python",
   "nbconvert_exporter": "python",
   "pygments_lexer": "ipython3",
   "version": "3.11.7"
  }
 },
 "nbformat": 4,
 "nbformat_minor": 5
}
