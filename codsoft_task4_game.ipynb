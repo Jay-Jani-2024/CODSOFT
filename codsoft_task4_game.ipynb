{
 "cells": [
  {
   "cell_type": "code",
   "execution_count": 2,
   "id": "fb5020d6-12bf-44b8-8a3f-81eb5dc1a8bd",
   "metadata": {},
   "outputs": [
    {
     "name": "stdout",
     "output_type": "stream",
     "text": [
      "Winning rules of the game ROCK PAPER SCISSORS are :\n",
      "Rock vs Paper -> Paper wins \n",
      "Rock vs Scissors -> Rock wins \n",
      "Paper vs Scissors -> Scissor wins \n",
      "\n"
     ]
    },
    {
     "name": "stdin",
     "output_type": "stream",
     "text": [
      "Rock, Paper, Scissors? Paper\n"
     ]
    },
    {
     "name": "stdout",
     "output_type": "stream",
     "text": [
      "User choice is \n",
      " Paper\n",
      "Computer choice is \n",
      " Rock\n",
      "Paper Vs Rock\n",
      "You win! Paper covers Rock\n"
     ]
    },
    {
     "name": "stdin",
     "output_type": "stream",
     "text": [
      "\n",
      "Play again? (yes/no):  no\n"
     ]
    },
    {
     "name": "stdout",
     "output_type": "stream",
     "text": [
      "Thanks for playing!\n"
     ]
    }
   ],
   "source": [
    "import random\n",
    "\n",
    "# print multiline instruction\n",
    "# performstring concatenation of string\n",
    "print('Winning rules of the game ROCK PAPER SCISSORS are :\\n'\n",
    "      + \"Rock vs Paper -> Paper wins \\n\"\n",
    "      + \"Rock vs Scissors -> Rock wins \\n\"\n",
    "      + \"Paper vs Scissors -> Scissor wins \\n\")\n",
    "\n",
    "# Create a list of play options\n",
    "play = [\"Rock\", \"Paper\", \"Scissors\"]\n",
    "\n",
    "while True:\n",
    "    # Assign a random play to the system\n",
    "    computer = play[random.randint(0, 2)]\n",
    "\n",
    "    player = input(\"Rock, Paper, Scissors?\")\n",
    "\n",
    "    print('User choice is \\n', player)\n",
    "    print('Computer choice is \\n', computer)\n",
    "    print(player, 'Vs', computer)\n",
    "\n",
    "    # Check if the player's choice matches the computer's choice\n",
    "    if player == computer:\n",
    "        print(\"Tie!\")\n",
    "    elif player == \"Rock\":\n",
    "        if computer == \"Paper\":\n",
    "            print(\"You lose!\", computer, \"covers\", player)\n",
    "        else:\n",
    "            print(\"You win!\", player, \"smashes\", computer)\n",
    "    elif player == \"Paper\":\n",
    "        if computer == \"Scissors\":\n",
    "            print(\"You lose!\", computer, \"cuts\", player)\n",
    "        else:\n",
    "            print(\"You win!\", player, \"covers\", computer)\n",
    "    elif player == \"Scissors\":\n",
    "        if computer == \"Rock\":\n",
    "            print(\"You lose!\", computer, \"smashes\", player)\n",
    "        else:\n",
    "            print(\"You win!\", player, \"cuts\", computer)\n",
    "    else:\n",
    "        print(\"That's not a valid play. Check the spelling!\")\n",
    "\n",
    "    repeat = input(\"\\nPlay again? (yes/no): \")\n",
    "    if repeat.lower() != \"yes\":\n",
    "        print(\"Thanks for playing!\")\n",
    "        break"
   ]
  },
  {
   "cell_type": "code",
   "execution_count": null,
   "id": "f689e721-7648-45bf-a531-7d242c5b1644",
   "metadata": {},
   "outputs": [],
   "source": []
  }
 ],
 "metadata": {
  "kernelspec": {
   "display_name": "Python 3 (ipykernel)",
   "language": "python",
   "name": "python3"
  },
  "language_info": {
   "codemirror_mode": {
    "name": "ipython",
    "version": 3
   },
   "file_extension": ".py",
   "mimetype": "text/x-python",
   "name": "python",
   "nbconvert_exporter": "python",
   "pygments_lexer": "ipython3",
   "version": "3.11.7"
  }
 },
 "nbformat": 4,
 "nbformat_minor": 5
}
